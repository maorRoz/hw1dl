{
 "cells": [
  {
   "cell_type": "code",
   "execution_count": 1,
   "metadata": {},
   "outputs": [
    {
     "name": "stderr",
     "output_type": "stream",
     "text": [
      "Using TensorFlow backend.\n"
     ]
    }
   ],
   "source": [
    "import numpy as np\n",
    "import pandas as pd\n",
    "import matplotlib.pyplot as plt\n",
    "%matplotlib inline\n",
    "\n",
    "from keras.models import *\n",
    "from keras.applications import VGG16\n",
    "from keras.applications.resnet50 import ResNet50\n",
    "from keras.layers import *\n",
    "from keras.utils import to_categorical\n",
    "from keras.callbacks import *\n",
    "from keras.optimizers import *\n",
    "from keras.models import *\n",
    "from keras.layers import *\n",
    "from keras.utils import to_categorical\n",
    "from keras.callbacks import *\n",
    "\n",
    "import os\n",
    "\n",
    "import PIL"
   ]
  },
  {
   "cell_type": "code",
   "execution_count": 2,
   "metadata": {},
   "outputs": [],
   "source": [
    "def read_and_resize_single_img(filename,nrow=224,ncol=224,channels=3):\n",
    "    from scipy import misc\n",
    "    arr = misc.imread(filename)\n",
    "    arr = misc.imresize(arr,size=(nrow,ncol,channels))\n",
    "    return arr\n",
    "\n",
    "def read_train_from_dirs(path = '../input/train',num_imgs_per_class=5,nrow=224,ncol=224,channels=3):\n",
    "    import glob\n",
    "    filelist = glob.glob(path + '*/*.jpg')\n",
    "    categories = [l.split('\\\\')[-2] for l in filelist]\n",
    "    v2k = {l:i for i,l in enumerate(np.unique(categories))}\n",
    "    l = [[t,v2k[t]] for t in categories]\n",
    "    labels_df = pd.DataFrame(l,columns=['category','cat_num'])\n",
    "    labels_df['filenames'] = filelist\n",
    "    labels_indexes = np.array([np.where(labels_df.cat_num==c)[0][0:num_imgs_per_class] \n",
    "                               for c in labels_df.cat_num.unique()[:20]])\n",
    "    filtered = labels_df.iloc[labels_indexes.flatten(),:]\n",
    "    num_imgs = filtered.shape[0]\n",
    "    x = np.zeros((num_imgs,nrow,ncol,channels))\n",
    "    for i in range(filtered.shape[0]):\n",
    "        arr=read_and_resize_single_img(filtered.loc[:,'filenames'].iloc[i],nrow,ncol,channels)\n",
    "        if len(arr.shape)<3: arr = np.stack([arr,arr,arr],axis=-1) #change to use np.repeat() for more generalizable\n",
    "        x[i] = np.float16(arr)\n",
    "    y = filtered.loc[:,'cat_num'].values\n",
    "    return x,y"
   ]
  },
  {
   "cell_type": "code",
   "execution_count": 3,
   "metadata": {},
   "outputs": [],
   "source": [
    "def plot_multiple_imgs(data,nrows=4,ncols=4,figsize=(18,18)):\n",
    "    fig,ax = plt.subplots(nrows=nrows,ncols=ncols,figsize=figsize)\n",
    "    for i in range(nrows*ncols):\n",
    "        ax[i%nrows,i//nrows].imshow(data[i])"
   ]
  },
  {
   "cell_type": "code",
   "execution_count": 4,
   "metadata": {},
   "outputs": [
    {
     "name": "stderr",
     "output_type": "stream",
     "text": [
      "C:\\Users\\user\\Anaconda3\\envs\\tensorflow\\lib\\site-packages\\ipykernel_launcher.py:3: DeprecationWarning: `imread` is deprecated!\n",
      "`imread` is deprecated in SciPy 1.0.0, and will be removed in 1.2.0.\n",
      "Use ``imageio.imread`` instead.\n",
      "  This is separate from the ipykernel package so we can avoid doing imports until\n",
      "C:\\Users\\user\\Anaconda3\\envs\\tensorflow\\lib\\site-packages\\ipykernel_launcher.py:4: DeprecationWarning: `imresize` is deprecated!\n",
      "`imresize` is deprecated in SciPy 1.0.0, and will be removed in 1.2.0.\n",
      "Use ``skimage.transform.resize`` instead.\n",
      "  after removing the cwd from sys.path.\n"
     ]
    },
    {
     "name": "stdout",
     "output_type": "stream",
     "text": [
      "Wall time: 5min 37s\n"
     ]
    }
   ],
   "source": [
    "%%time\n",
    "num_train_imgs=10222\n",
    "num_test_imgs = 10357\n",
    "x_train,y_train = read_train_from_dirs(num_imgs_per_class=num_train_imgs)\n",
    "x_test,y_test = read_train_from_dirs(path='../input/test',num_imgs_per_class=num_test_imgs)"
   ]
  },
  {
   "cell_type": "code",
   "execution_count": null,
   "metadata": {},
   "outputs": [],
   "source": [
    "plot_multiple_imgs(X_train/255,6,6)"
   ]
  },
  {
   "cell_type": "code",
   "execution_count": 5,
   "metadata": {},
   "outputs": [],
   "source": [
    "def get_model_all_classes():\n",
    "    vgg16 = VGG16(weights='imagenet', include_top=True)\n",
    "    vgg16.summary()\n",
    "    for l in vgg16.layers:\n",
    "        l.trainable = False\n",
    "\n",
    "    x = GlobalAveragePooling2D()(vgg16.layers[-5].output)\n",
    "    x = Dropout(0.3)(x)\n",
    "#     x = Flatten()(x)\n",
    "    x = Dense(to_categorical(range(10)).shape[1],activation='softmax',name = 'predictions')(x)\n",
    "    model = Model(inputs = vgg16.input,outputs = x)\n",
    "    model.summary()\n",
    "    return model"
   ]
  },
  {
   "cell_type": "code",
   "execution_count": null,
   "metadata": {},
   "outputs": [
    {
     "name": "stdout",
     "output_type": "stream",
     "text": [
      "Downloading data from https://github.com/fchollet/deep-learning-models/releases/download/v0.1/vgg16_weights_tf_dim_ordering_tf_kernels.h5\n",
      " 21241856/553467096 [>.............................] - ETA: 21:44"
     ]
    }
   ],
   "source": [
    "model = get_model_all_classes()\n",
    "model.compile(loss='categorical_crossentropy',optimizer='adam')"
   ]
  }
 ],
 "metadata": {
  "kernelspec": {
   "display_name": "Python 3",
   "language": "python",
   "name": "python3"
  },
  "language_info": {
   "codemirror_mode": {
    "name": "ipython",
    "version": 3
   },
   "file_extension": ".py",
   "mimetype": "text/x-python",
   "name": "python",
   "nbconvert_exporter": "python",
   "pygments_lexer": "ipython3",
   "version": "3.6.7"
  }
 },
 "nbformat": 4,
 "nbformat_minor": 2
}
